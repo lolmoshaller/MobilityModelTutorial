{
 "cells": [
  {
   "cell_type": "code",
   "execution_count": 1,
   "metadata": {
    "collapsed": true
   },
   "outputs": [],
   "source": [
    "import random\n",
    "import math\n",
    "import numpy as np\n",
    "from math import radians, cos, sin, asin, sqrt"
   ]
  },
  {
   "cell_type": "code",
   "execution_count": 8,
   "metadata": {
    "collapsed": true
   },
   "outputs": [],
   "source": [
    "def haversine(lon1, lat1, lon2, lat2):\n",
    "    \"\"\"\n",
    "    Calculate the great circle distance between two points \n",
    "    on the earth (specified in decimal degrees)\n",
    "    \"\"\"\n",
    "    # convert decimal degrees to radians \n",
    "    lon1, lat1, lon2, lat2 = map(radians, [lon1, lat1, lon2, lat2])\n",
    "\n",
    "    # haversine formula \n",
    "    dlon = lon2 - lon1 \n",
    "    dlat = lat2 - lat1 \n",
    "    a = sin(dlat/2)**2 + cos(lat1) * cos(lat2) * sin(dlon/2)**2\n",
    "    c = 2 * asin(sqrt(a)) \n",
    "    r = 6371 # Radius of earth in kilometers. Use 3956 for miles\n",
    "    return c * r\n",
    "\n",
    "def customPow(x):\n",
    "    return pow(x,-0.86)\n",
    "\n",
    "def genRankSelectionCDF(n):\n",
    "    rank_select_pdf=np.array(range(1,n+1))\n",
    "    rank_select_pdf=map(customPow,rank_select_pdf)\n",
    "    pdf_sum=sum(rank_select_pdf)\n",
    "    rank_select_pdf/=pdf_sum\n",
    "    rank_select_cdf=np.cumsum(rank_select_pdf)\n",
    "    return rank_select_cdf\n",
    "\n",
    "#loc_pool contains the lon,lat of all the potential destinations\n",
    "#locs: locid, visit time, lon, lat, locid start with \n",
    "def findNextLoc(locs,curr_loc,loc_pool,rho,gamma,olon,olat,rank_select_cdf,min_dist):\n",
    "    visited_location=len(locs)\n",
    "    r_return_unconditioned = 0.6*(1-rho*pow(visited_location,gamma))\n",
    "    p_return=r_return_unconditioned/(r_return_unconditioned+rho*pow(visited_location,gamma))\n",
    "    if random.random()<p_return:\n",
    "        #return\n",
    "        visit_count_sum=0.0\n",
    "        for j in range(1,visited_location):\n",
    "            if curr_loc!=j:\n",
    "                visit_count_sum+=locs[j][1]\n",
    "        visit_cdf=[0]*visited_location\n",
    "        #if curr_loc!=0:\n",
    "            #visit_cdf[0]=0\n",
    "        for j in range(1,visited_location):\n",
    "            if curr_loc!=j:\n",
    "                visit_cdf[j]=visit_cdf[j-1]+locs[j][1]/visit_count_sum\n",
    "            else:\n",
    "                visit_cdf[j]=visit_cdf[j-1]\n",
    "        found_sign=0\n",
    "        while found_sign==0:\n",
    "            rand_num=random.random()\n",
    "            for j in range(visited_location):\n",
    "                if rand_num<visit_cdf[j] and j!=curr_loc:\n",
    "                    locs[j][1]+=1\n",
    "                    return j\n",
    "    #new location, choose from the loc pool using rank\n",
    "    n=len(loc_pool)\n",
    "    # a list of [dist,loc id]\n",
    "    dists= [[] for x in xrange(n)]\n",
    "    for i in range(n):\n",
    "        dists[i]=[haversine(loc_pool[i][0], loc_pool[i][1], olon, olat), i]\n",
    "    dists.sort()\n",
    "    \n",
    "    for i in range(n):\n",
    "        if dists[i][0]>min_dist:\n",
    "            begin_index=i\n",
    "            break\n",
    "    \n",
    "    find_sign=0\n",
    "    while find_sign==0:\n",
    "        rand_num=random.random()\n",
    "        for i in range(begin_index,n):\n",
    "            if rand_num<rank_select_cdf[i-begin_index]:\n",
    "                find_sign=1\n",
    "                locs.append([locs[-1][0]+1,1,loc_pool[dists[i][1]][0],loc_pool[dists[i][1]][1]])\n",
    "                return locs[-1][0]\n",
    "\n",
    "def loadLocPool():\n",
    "    f = open('OtherLocation.txt','r')\n",
    "    loc_pool = [[float(x.split(\" \")[1]), float(x.split(\" \")[0])] for x in f.readlines()]\n",
    "    return loc_pool\n",
    "\n",
    "#the input information locs is: locid, visit time, lon, lat, \n",
    "#parameters needed: b1, b2, start slot, end slot\n",
    "#home is locid 0, other location id starts at 1\n",
    "def interRec(locs,b1,b2,start_slot,end_slot,nw,loc_pool):\n",
    "    rho=0.6\n",
    "    gamma=-0.21\n",
    "    min_dist=0.6\n",
    "    #load daily_activeness\n",
    "    f = open('DailyTrend.txt', 'r')\n",
    "    daily_activeness = map(float,f.readlines()[0].split(' '))\n",
    "    #load weekly_activeness\n",
    "    f = open('WeeklyTrend.txt', 'r')\n",
    "    weekly_activeness = map(float,f.readlines()[0].split(' '))\n",
    "    \n",
    "    slot_num=end_slot-start_slot+1\n",
    "    person_loc=[0]*slot_num\n",
    "    at_home=1\n",
    "    curr_loc=0\n",
    "    for i in range(slot_num):\n",
    "        curr_slot=start_slot+i\n",
    "        daily_slot=curr_slot%144\n",
    "        weekly_slot=(curr_slot/144)%7\n",
    "        if at_home:\n",
    "            pt=nw*daily_activeness[daily_slot]*weekly_activeness[weekly_slot]\n",
    "            #from home to other\n",
    "            if random.random()<pt:\n",
    "                at_home=0\n",
    "                #decide where to go\n",
    "                person_loc[i]=findNextLoc(locs,curr_loc,loc_pool,rho,gamma,locs[curr_loc][2],locs[curr_loc][3],rank_select_cdf,min_dist)\n",
    "                curr_loc=person_loc[i]\n",
    "            else:\n",
    "                #keep at home, record it\n",
    "                person_loc[i]=0\n",
    "                curr_loc=0\n",
    "        else:\n",
    "            #p_other_move=getOtherMovePr(daily_slot,weekly_slot,b1,nw)\n",
    "            p_other_move = b1*nw*daily_activeness[daily_slot]*weekly_activeness[weekly_slot];\n",
    "            if random.random()<p_other_move:\n",
    "                #move to home or another other\n",
    "                #p_other_home=getOtherMoveToHomePr(daily_slot,weekly_slot,b2,nw);\n",
    "                p_other_home=1-b2*nw*daily_activeness[daily_slot]*weekly_activeness[weekly_slot];\n",
    "                if random.random()<p_other_home:\n",
    "                    at_home=1\n",
    "                    person_loc[i]=0\n",
    "                    curr_loc=0\n",
    "                else:\n",
    "                    #other to other\n",
    "                    #decide where to go\n",
    "                    person_loc[i]=findNextLoc(locs,curr_loc,loc_pool,rho,gamma,locs[curr_loc][2],locs[curr_loc][3],rank_select_cdf,min_dist)\n",
    "                    curr_loc=person_loc[i]\n",
    "            else:\n",
    "                #else keep at the current other place\n",
    "                person_loc[i]=curr_loc\n",
    "    return locs, person_loc"
   ]
  },
  {
   "cell_type": "code",
   "execution_count": 3,
   "metadata": {
    "collapsed": false
   },
   "outputs": [],
   "source": [
    "rank_select_cdf=genRankSelectionCDF(100000)"
   ]
  },
  {
   "cell_type": "code",
   "execution_count": 13,
   "metadata": {
    "collapsed": false
   },
   "outputs": [],
   "source": [
    "f = open('SparseInput.txt', 'r')\n",
    "locs = [map(float,x.split(' ')) for x in f.readlines()]\n",
    "loc_pool = loadLocPool()\n",
    "for i in range(len(locs)):\n",
    "    locs[i][0] = int(locs[i][0])\n",
    "locs, person_loc = interRec(locs,5,33,200,1000,7,loc_pool)"
   ]
  },
  {
   "cell_type": "code",
   "execution_count": 14,
   "metadata": {
    "collapsed": false
   },
   "outputs": [
    {
     "data": {
      "text/plain": [
       "[[0, 1, 42.394486, -71.121227, 0.0, 1],\n",
       " [0, 2, 42.357804, -71.099643, 2.1666666666666665, 1],\n",
       " [0, 1, 42.394486, -71.121227, 9.5, 2],\n",
       " [0, 3, 42.404893, -71.107221, 12.5, 1],\n",
       " [0, 1, 42.394486, -71.121227, 17.5, 3],\n",
       " [1, 2, 42.357804, -71.099643, 19.833333333333332, 2],\n",
       " [1, 1, 42.394486, -71.121227, 23.666666666666668, 4],\n",
       " [2, 5, 42.401757, -71.12679, 3.6666666666666665, 1],\n",
       " [2, 6, 42.397327, -71.140409, 6.833333333333333, 1],\n",
       " [2, 1, 42.394486, -71.121227, 10.166666666666666, 5],\n",
       " [4, 7, 42.395281, -71.128508, 0.0, 1],\n",
       " [4, 8, 42.394416, -71.121031, 5.666666666666667, 1],\n",
       " [4, 1, 42.394486, -71.121227, 6.0, 6],\n",
       " [4, 9, 42.40195, -71.116678, 12.0, 1],\n",
       " [4, 10, 42.397666, -71.121133, 13.666666666666666, 1],\n",
       " [4, 1, 42.394486, -71.121227, 14.5, 7],\n",
       " [5, 11, 42.378739, -71.186049, 3.5, 1],\n",
       " [5, 12, 42.490759, -71.191548, 5.166666666666667, 1],\n",
       " [5, 1, 42.394486, -71.121227, 12.333333333333334, 8]]"
      ]
     },
     "execution_count": 14,
     "metadata": {},
     "output_type": "execute_result"
    }
   ],
   "source": [
    "#process person_loc to be the same format as the matlab code\n",
    "loc_freq=[0]*100\n",
    "stays=[]\n",
    "for i in range(len(person_loc)):\n",
    "    if i==0 or person_loc[i]!=person_loc[i-1]:\n",
    "        #a new stay\n",
    "        loc_freq[person_loc[i]]+=1\n",
    "        day=int(i/144)\n",
    "        lat=locs[person_loc[i]][3]\n",
    "        lon=locs[person_loc[i]][2]\n",
    "        hour=(i%144)/6.0\n",
    "        visits=loc_freq[person_loc[i]]\n",
    "        stays.append([day,person_loc[i]+1,lat,lon,hour,visits])\n",
    "stays"
   ]
  },
  {
   "cell_type": "code",
   "execution_count": 117,
   "metadata": {
    "collapsed": false
   },
   "outputs": [],
   "source": [
    "with open(\"SparseUser.txt\", \"w\") as text_file:\n",
    "    for stay in stays:\n",
    "        text_file.write(\"%d %d %d %d %d %f %f %f %d\\n\" % tuple(stay))"
   ]
  }
 ],
 "metadata": {
  "kernelspec": {
   "display_name": "Python 2",
   "language": "python",
   "name": "python2"
  },
  "language_info": {
   "codemirror_mode": {
    "name": "ipython",
    "version": 2
   },
   "file_extension": ".py",
   "mimetype": "text/x-python",
   "name": "python",
   "nbconvert_exporter": "python",
   "pygments_lexer": "ipython2",
   "version": "2.7.9"
  }
 },
 "nbformat": 4,
 "nbformat_minor": 0
}
